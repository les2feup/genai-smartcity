{
 "cells": [
  {
   "cell_type": "markdown",
   "metadata": {},
   "source": [
    "# Setup and API Key and Configuration\n",
    "Install the elsapy library and configure the API key required for authentication with Elsevier's APIs."
   ]
  },
  {
   "cell_type": "code",
   "execution_count": 21,
   "metadata": {},
   "outputs": [],
   "source": [
    "# Import necessary libraries\n",
    "import json\n",
    "import csv\n",
    "\n",
    "from elsapy.elsclient import ElsClient\n",
    "from elsapy.elssearch import ElsSearch"
   ]
  },
  {
   "cell_type": "code",
   "execution_count": 22,
   "metadata": {},
   "outputs": [],
   "source": [
    "# Load API key from a configuration file\n",
    "with open(\"config.json\") as config_file:\n",
    "    config = json.load(config_file)\n",
    "\n",
    "# Initialize the ElsClient with the API key\n",
    "client = ElsClient(config['apikey'])"
   ]
  },
  {
   "cell_type": "markdown",
   "metadata": {},
   "source": [
    "# Initialize the Elsevier Client\n",
    "Create an Elsevier client instance using your API key and configure the connection settings."
   ]
  },
  {
   "cell_type": "code",
   "execution_count": 23,
   "metadata": {},
   "outputs": [
    {
     "name": "stdout",
     "output_type": "stream",
     "text": [
      "Client initialized successfully.\n"
     ]
    }
   ],
   "source": [
    "# Set the connection settings for the client\n",
    "client.base_url = 'https://api.elsevier.com/content/search/scopus'\n",
    "\n",
    "# Verify the client connection\n",
    "if client:\n",
    "    print(\"Client initialized successfully.\")\n",
    "else:\n",
    "    print(\"Failed to initialize client.\")"
   ]
  },
  {
   "cell_type": "markdown",
   "metadata": {},
   "source": [
    "# Search for Articles by Keyword\n",
    "Demonstrate how to search for articles in Scopus using keywords and how to handle the response data."
   ]
  },
  {
   "cell_type": "code",
   "execution_count": 26,
   "metadata": {},
   "outputs": [
    {
     "name": "stdout",
     "output_type": "stream",
     "text": [
      "Found 600 results.\n"
     ]
    }
   ],
   "source": [
    "# Import necessary libraries for searching articles\n",
    "\n",
    "# Define the search query using a keyword\n",
    "search_query = (\n",
    "    'TITLE-ABS-KEY('\n",
    "    '(\"smart cit*\" OR \"intelligent cit*\" OR \"digital city\" OR '\n",
    "    '\"smart urban\" OR \"urban computing\") '\n",
    "    \"AND \"\n",
    "    '(\"generative AI\" OR \"generative artificial intelligence\" OR '\n",
    "    '\"GAN\" OR \"generative adversarial network*\" OR \"diffusion model*\" OR '\n",
    "    '\"large language model*\" OR \"LLM\" OR \"LLMs\" OR '\n",
    "    '\"variational autoencoder*\" OR \"VAE*\" OR \"autoregressive model*\" OR '\n",
    "    '\"transformer*\" OR \"retrieval-augmented generation\" OR \"RAG\" OR \"AI agent*\")'\n",
    "    \") \"\n",
    "    \"AND PUBYEAR > 2018 AND PUBYEAR < 2026 \"\n",
    "    'AND LIMIT-TO(LANGUAGE, \"English\")'\n",
    ")\n",
    "\n",
    "# Initialize the ElsSearch object with the search query and client\n",
    "doc_srch = ElsSearch(search_query, 'scopus')\n",
    "\n",
    "# Execute the search\n",
    "doc_srch.execute(client, get_all=True)\n",
    "\n",
    "# Check if the search was successful\n",
    "if doc_srch.results:\n",
    "    print(f\"Found {len(doc_srch.results)} results.\")\n",
    "else:\n",
    "    print(\"No results found.\")"
   ]
  },
  {
   "cell_type": "markdown",
   "metadata": {},
   "source": [
    "# Save the results to a CSV file"
   ]
  },
  {
   "cell_type": "code",
   "execution_count": 27,
   "metadata": {},
   "outputs": [],
   "source": [
    "# Function to export results to CSV with dynamic fields\n",
    "def export_to_csv(data, filename):\n",
    "    # Get all possible keys across all dictionaries\n",
    "    all_keys = set()\n",
    "    for item in data:\n",
    "        all_keys.update(item.keys())\n",
    "\n",
    "    # Convert to sorted list for consistent column order\n",
    "    fieldnames = sorted(list(all_keys))\n",
    "\n",
    "    with open(filename, \"w\", newline=\"\", encoding=\"utf-8\") as output_file:\n",
    "        dict_writer = csv.DictWriter(output_file, fieldnames=fieldnames)\n",
    "        dict_writer.writeheader()\n",
    "        dict_writer.writerows(data)\n",
    "\n",
    "    print(f\"CSV exported {len(data)} records\")\n",
    "\n",
    "\n",
    "# Function to export results to JSON\n",
    "def export_to_json(data, filename):\n",
    "    with open(filename, \"w\", encoding=\"utf-8\") as output_file:\n",
    "        json.dump(data, output_file, indent=4, ensure_ascii=False)\n",
    "\n",
    "    print(f\"JSON exported with {len(data)} records\")"
   ]
  },
  {
   "cell_type": "code",
   "execution_count": 28,
   "metadata": {},
   "outputs": [
    {
     "name": "stdout",
     "output_type": "stream",
     "text": [
      "CSV exported 512 records\n",
      "JSON exported with 512 records\n"
     ]
    }
   ],
   "source": [
    "# Filter out documents with missing doi\n",
    "results = [doc for doc in doc_srch.results if doc.get(\"prism:doi\")]\n",
    "\n",
    "# Export the results to a CSV file\n",
    "export_to_csv(results, \"../data/01_scopus_results.csv\")\n",
    "export_to_json(results, \"../data/01_scopus_results.json\")"
   ]
  }
 ],
 "metadata": {
  "kernelspec": {
   "display_name": ".venv",
   "language": "python",
   "name": "python3"
  },
  "language_info": {
   "codemirror_mode": {
    "name": "ipython",
    "version": 3
   },
   "file_extension": ".py",
   "mimetype": "text/x-python",
   "name": "python",
   "nbconvert_exporter": "python",
   "pygments_lexer": "ipython3",
   "version": "3.13.2"
  }
 },
 "nbformat": 4,
 "nbformat_minor": 2
}
